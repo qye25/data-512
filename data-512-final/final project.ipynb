{
 "metadata": {
  "language_info": {
   "codemirror_mode": {
    "name": "ipython",
    "version": 3
   },
   "file_extension": ".py",
   "mimetype": "text/x-python",
   "name": "python",
   "nbconvert_exporter": "python",
   "pygments_lexer": "ipython3",
   "version": 3
  },
  "orig_nbformat": 2
 },
 "nbformat": 4,
 "nbformat_minor": 2,
 "cells": [
  {
   "source": [
    "# Data 512 Final Project\n",
    "\n",
    "Qinglang Ye"
   ],
   "cell_type": "markdown",
   "metadata": {}
  },
  {
   "source": [
    "## Motivation and Problem Statement"
   ],
   "cell_type": "markdown",
   "metadata": {}
  },
  {
   "source": [
    "## Data "
   ],
   "cell_type": "markdown",
   "metadata": {}
  },
  {
   "source": [
    "## Unknowns and Dependencies"
   ],
   "cell_type": "markdown",
   "metadata": {}
  }
 ]
}