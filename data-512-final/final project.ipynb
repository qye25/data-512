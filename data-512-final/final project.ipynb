{
 "metadata": {
  "language_info": {
   "codemirror_mode": {
    "name": "ipython",
    "version": 3
   },
   "file_extension": ".py",
   "mimetype": "text/x-python",
   "name": "python",
   "nbconvert_exporter": "python",
   "pygments_lexer": "ipython3",
   "version": 3
  },
  "orig_nbformat": 2
 },
 "nbformat": 4,
 "nbformat_minor": 2,
 "cells": [
  {
   "source": [
    "# Data 512 Final Project\n",
    "\n",
    "Qinglang Ye"
   ],
   "cell_type": "markdown",
   "metadata": {}
  },
  {
   "source": [
    "## Motivation and Problem Statement\n",
    "\n",
    "When quantifying quality features, researchers usually ask the participants to rate the level as scores. For example, rate the difficulty level from 0 - 5; or rate choose the best fit of your feelings from \"Strongly Disagree\", \"Neutural\" and \"Strongly Agree\" and etc. I believe that people with different personalities would have different standards while selecting among options witout clear and uniform definitions.  \n",
    "In this project, I would like to learn the relationship between individual personalities and preferences. This would be practical and useful in improving recommendation systems."
   ],
   "cell_type": "markdown",
   "metadata": {}
  },
  {
   "source": [
    "## Background\n",
    "\n",
    "Nguyen, et al's study of \"User Personality and User Satisfaction with Recommender Systems\" shows that individual users’ preferences for the level of diversity, popularity, and serendipity in recommendation lists cannot be inferred from their ratings alone. After assessing users’ personality traits using the Ten-item Personality Inventory (TIPI), they also found that users with different personalities have different preferences for these three recommendation properties. \n",
    "\n",
    "There is also research on the relationship between language and personalities for example [Language Models and Automated Personality Prediction](https://github.com/yashsmehta/personality-prediction).\n",
    "\n",
    "### References\n",
    "\n",
    "Nguyen, T.T., Maxwell Harper, F., Terveen, L. et al. User Personality and User Satisfaction with Recommender Systems. Inf Syst Front 20, 1173–1189 (2018). https://doi.org/10.1007/s10796-017-9782-y\n",
    "\n",
    "@inproceedings{mehtabottom,\n",
    "  title={Bottom-Up and Top-Down: Predicting Personality with Psycholinguistic and Language Model Features},\n",
    "  author={Mehta, Yash and Fatehi, Samin and Kazameini, Amirmohammad and Stachl, Clemens and Cambria, Erik and Eetemadi, Sauleh},\n",
    "  booktitle={Proceedings of the International Conference of Data Mining},\n",
    "  Organization = {IEEE},\n",
    "  year={2020}}\n",
    "}\n"
   ],
   "cell_type": "markdown",
   "metadata": {}
  },
  {
   "source": [
    "## Research Questions\n",
    "\n",
    "What is the impact of personality traits on individual movie ratings?\n",
    "\n",
    "### Hypothesis\n",
    "\n",
    "- People with higher score of openness might tend to give higher ratings for movies.\n"
   ],
   "cell_type": "markdown",
   "metadata": {}
  },
  {
   "source": [
    "## Methodology\n",
    "\n",
    "The project will mainly perform an EDA on the dataset, exploring the data and analyze potential correlations among the features. I will then run logistic regression to predict movie ratings if time allows."
   ],
   "cell_type": "markdown",
   "metadata": {}
  },
  {
   "source": [
    "## Data \n",
    "\n",
    "[Top Personality Dataset](https://www.kaggle.com/arslanali4343/top-personality-dataset)\n",
    "\n",
    "The dataset contains two files `2018-personality-data.csv` and `2018_ratings.csv`. The personality data assessed over 1800 users’ personality traits using the Five-item Personality Inventory. And the rating data records user ratings of levels of diversity, popularity, and serendipity of a given list of movies. This data was originally collected for training reccomendation systems based on user personality traits so it is very suitable for addressing my research goal. \n",
    "\n",
    "\n",
    "### 2018-personality-data.csv\n",
    "\n",
    "| Column | Description |\n",
    "|--------|-------------|\n",
    "| `userid`   | The hashed user_id |\n",
    "| `openness`   | Assessment score (from 1 to 7) assessing user tendency to prefer new experience. |\n",
    "| `agreeableness`  | Assessment score (from 1 to 7) assessing user tendency to be compassionate and cooperative rather than suspicious and antagonistic towards others. |\n",
    "| `emotional_stability` | Assessment score (from 1 to 7) assessing user tendency to have psychological stress. |\n",
    "| `conscientiousness` | Assessment score (from 1 to 7) assessing user tendency to be organized and dependable, and show self-discipline. |\n",
    "| `extraversion` | Assessment score (from 1 to 7) assessing user tendency to be outgoing. |\n",
    "| `assigned metric` | One of \"serendipity\", \"popularity\", \"diversity\", \"default\". |\n",
    "| `assigned condition` | One of \"high\", \"medium\", \"low\". |\n",
    "| `movie_x (x is from 1 to 12)` | The list consists of 12 movies. These fields contain the ids of the twelve movies in the list. |\n",
    "| `predicted_rating_x (x is from 1 to 12)` | The predicted rating of the corresponding movie_x for the user. |\n",
    "| `is_personalized` | The response of the user to the question \"This list is personalized for me\" (1: Strongly Disagree, 5: Strongly Agree). |\n",
    "| `enjoy_watching` | The response of the user to the question \"This list contains movies I think I enjoyed watching\" (1: Strongly Disagree, 5: Strongly Agree). |\n",
    "\n",
    "### 2018_ratings.csv\n",
    "\n",
    "| Column | Description |\n",
    "|--------|-------------|\n",
    "| `userid`   | The hashed user_id |\n",
    "| `movie_id`  | The id of the movie that the user (corresponding to userId) rated |\n",
    "| `rating` | The user rating (from 0.5 to 5 stars) |\n",
    "| `tstamp` | The time when the user rated the movie |\n",
    "\n"
   ],
   "cell_type": "markdown",
   "metadata": {}
  },
  {
   "source": [
    "## Unknowns and Dependencies\n",
    "\n",
    "We don't know the demographics of all the experiment participants so there might be bias that the sample cannot represent all the population."
   ],
   "cell_type": "markdown",
   "metadata": {}
  },
  {
   "cell_type": "code",
   "execution_count": null,
   "metadata": {},
   "outputs": [],
   "source": []
  }
 ]
}