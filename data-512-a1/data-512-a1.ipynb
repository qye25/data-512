{
 "metadata": {
  "language_info": {
   "codemirror_mode": {
    "name": "ipython",
    "version": 3
   },
   "file_extension": ".py",
   "mimetype": "text/x-python",
   "name": "python",
   "nbconvert_exporter": "python",
   "pygments_lexer": "ipython3",
   "version": "3.7.3-final"
  },
  "orig_nbformat": 2,
  "kernelspec": {
   "name": "Python 3.7.3 64-bit ('base': conda)",
   "display_name": "Python 3.7.3 64-bit ('base': conda)",
   "metadata": {
    "interpreter": {
     "hash": "d06052968cd98f9b02fe547efe02d1c40daf86ca7cb0704925c615b4101bcd4f"
    }
   }
  }
 },
 "nbformat": 4,
 "nbformat_minor": 2,
 "cells": [
  {
   "cell_type": "code",
   "execution_count": 4,
   "metadata": {},
   "outputs": [],
   "source": [
    "import json\n",
    "import requests"
   ]
  },
  {
   "cell_type": "code",
   "execution_count": 5,
   "metadata": {},
   "outputs": [],
   "source": [
    "endpoint_legacy = 'https://wikimedia.org/api/rest_v1/metrics/legacy/pagecounts/aggregate/{project}/{access-site}/{granularity}/{start}/{end}'\n",
    "\n",
    "endpoint_pageviews = 'https://wikimedia.org/api/rest_v1/metrics/pageviews/aggregate/{project}/{access}/{agent}/{granularity}/{start}/{end}'"
   ]
  },
  {
   "cell_type": "code",
   "execution_count": 6,
   "metadata": {},
   "outputs": [],
   "source": [
    "legacy_desktop = example_params_legacy = {\"project\" : \"en.wikipedia.org\",\n",
    "                 \"access-site\" : \"desktop-site\",\n",
    "                 \"granularity\" : \"monthly\",\n",
    "                 \"start\" : \"2007120100\",\n",
    "                # for end use 1st day of month following final month of data\n",
    "                 \"end\" : \"2016080100\"\n",
    "                    }\n",
    "\n",
    "legacy_mobile = example_params_legacy = {\"project\" : \"en.wikipedia.org\",\n",
    "                 \"access-site\" : \"mobile-site\",\n",
    "                 \"granularity\" : \"monthly\",\n",
    "                 \"start\" : \"2007120100\",\n",
    "                # for end use 1st day of month following final month of data\n",
    "                 \"end\" : \"2016080100\"\n",
    "                    }\n",
    "pageviews_desktop = {\"project\" : \"en.wikipedia.org\",\n",
    "                    \"access\" : \"desktop\",\n",
    "                    \"agent\" : \"user\",\n",
    "                    \"granularity\" : \"monthly\",\n",
    "                    \"start\" : \"2015070100\",\n",
    "                    # for end use 1st day of month following final month of data\n",
    "                    \"end\" : '2020101000'\n",
    "                        }\n",
    "\n",
    "pageviews_app = {\"project\" : \"en.wikipedia.org\",\n",
    "                \"access\" : \"mobile-app\",\n",
    "                \"agent\" : \"user\",\n",
    "                \"granularity\" : \"monthly\",\n",
    "                \"start\" : \"2015070100\",\n",
    "                # for end use 1st day of month following final month of data\n",
    "                \"end\" : '2020101000'\n",
    "                    }\n",
    "\n",
    "pageviews_web = {\"project\" : \"en.wikipedia.org\",\n",
    "                \"access\" : \"mobile-web\",\n",
    "                \"agent\" : \"user\",\n",
    "                \"granularity\" : \"monthly\",\n",
    "                \"start\" : \"2015070100\",\n",
    "                # for end use 1st day of month following final month of data\n",
    "                \"end\" : '2020101000'\n",
    "                    }\n",
    "\n",
    "headers = {'User-Agent': 'https://github.com/qye25',\n",
    "        'From': 'qye25@uw.edu'\n",
    "}"
   ]
  },
  {
   "cell_type": "code",
   "execution_count": 7,
   "metadata": {},
   "outputs": [],
   "source": [
    "def api_call(endpoint,parameters):\n",
    "    call = requests.get(endpoint.format(**parameters), headers=headers)\n",
    "    response = call.json()\n",
    "    \n",
    "    return response"
   ]
  },
  {
   "cell_type": "code",
   "execution_count": 10,
   "metadata": {},
   "outputs": [],
   "source": [
    "def saveJSON(filename, endpoint,parameters):\n",
    "    response = api_call(endpoint,parameters)\n",
    "    with open(filename+\".json\", 'w') as json_file:\n",
    "        json.dump(response, json_file)"
   ]
  },
  {
   "cell_type": "code",
   "execution_count": 11,
   "metadata": {},
   "outputs": [],
   "source": [
    "# example_monthly_pageviews = api_call(endpoint_pageviews, pageviews_desktop)\n",
    "saveJSON(\"pagecounts_desktop-site_200712-201607\",endpoint_legacy, legacy_desktop)\n",
    "saveJSON(\"pagecounts_mobile-site_200712-201607\",endpoint_legacy, legacy_mobile)\n",
    "\n",
    "saveJSON(\"pageviews_desktop_201507-202009\",endpoint_pageviews, pageviews_desktop)\n",
    "saveJSON(\"pageviews_mobile-app_201507-202009\",endpoint_pageviews, pageviews_app)\n",
    "saveJSON(\"pageviews_mobile-web_201507-202009\",endpoint_pageviews, pageviews_web)"
   ]
  },
  {
   "cell_type": "code",
   "execution_count": null,
   "metadata": {},
   "outputs": [],
   "source": []
  }
 ]
}